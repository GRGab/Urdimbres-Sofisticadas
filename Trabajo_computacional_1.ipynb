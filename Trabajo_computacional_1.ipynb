{
 "cells": [
  {
   "cell_type": "markdown",
   "metadata": {},
   "source": [
    "# Trabajo computacional 1"
   ]
  },
  {
   "cell_type": "markdown",
   "metadata": {},
   "source": [
    "## Ejercicio 1"
   ]
  },
  {
   "cell_type": "markdown",
   "metadata": {},
   "source": [
    "Primero importamos las librerias que precisamos"
   ]
  },
  {
   "cell_type": "code",
   "execution_count": 40,
   "metadata": {},
   "outputs": [],
   "source": [
    "from lectura import ldata\n",
    "import networkx as nx\n",
    "import numpy as np\n",
    "from matplotlib import pyplot as plt\n",
    "import pandas as pd"
   ]
  },
  {
   "cell_type": "markdown",
   "metadata": {},
   "source": [
    "Definimos las funciones que vamos a utilizar"
   ]
  },
  {
   "cell_type": "code",
   "execution_count": 90,
   "metadata": {},
   "outputs": [],
   "source": [
    "def es_dirigido(data):\n",
    "    \"\"\"Data en forma de lista de enlaces (tuplas). Si el resultado es 0,\n",
    "    entonces es no dirigido; si es distinto de cero, es dirigido.\"\"\"\n",
    "    n = 0\n",
    "    for (x, y) in data:\n",
    "        for (a, b) in data:\n",
    "            if a == y and b == x:\n",
    "                n += 1\n",
    "    return n/2\n",
    "\n",
    "def k_medio(G):\n",
    "    N = G.order()\n",
    "    if isinstance(G, nx.DiGraph):\n",
    "        kin_med = sum(k for (nodo, k) in G.in_degree) / N\n",
    "        kout_med = sum(k for (nodo, k) in G.out_degree) / N\n",
    "    else:\n",
    "        kin_med, kout_med = 0, 0\n",
    "    k_med = sum(k for (nodo, k) in G.degree) / N\n",
    "    return kin_med, kout_med, k_med\n",
    "\n",
    "def k_extremos(G):\n",
    "    k_min = min(k for (nodo, k) in G.degree)\n",
    "    k_max = max(k for (nodo, k) in G.degree)\n",
    "    return k_min, k_max\n",
    "\n",
    "def clustering_medio(G):\n",
    "    return np.average(list(dict(nx.clustering(G)).values()))"
   ]
  },
  {
   "cell_type": "markdown",
   "metadata": {},
   "source": [
    "Importamos las redes."
   ]
  },
  {
   "cell_type": "code",
   "execution_count": 42,
   "metadata": {},
   "outputs": [],
   "source": [
    "apms = ldata('Tp1/tc01_data/yeast_AP-MS.txt')\n",
    "\n",
    "lit = ldata('Tp1/tc01_data/yeast_LIT.txt')\n",
    "\n",
    "y2h = ldata('Tp1/tc01_data/yeast_Y2H.txt')"
   ]
  },
  {
   "cell_type": "code",
   "execution_count": 48,
   "metadata": {},
   "outputs": [],
   "source": [
    "g_apms = nx.DiGraph()\n",
    "g_apms.add_edges_from(apms)\n",
    "\n",
    "g_lit = nx.DiGraph()\n",
    "g_lit.add_edges_from(lit)\n",
    "\n",
    "g_y2h = nx.DiGraph()\n",
    "g_y2h.add_edges_from(y2h)"
   ]
  },
  {
   "cell_type": "markdown",
   "metadata": {},
   "source": [
    "### Punto a"
   ]
  },
  {
   "cell_type": "markdown",
   "metadata": {},
   "source": [
    "Vamos a graficar las tres redes, en principio asumiendo que  todas son dirigidas."
   ]
  },
  {
   "cell_type": "code",
   "execution_count": 3,
   "metadata": {},
   "outputs": [
    {
     "ename": "NameError",
     "evalue": "name 'plt' is not defined",
     "output_type": "error",
     "traceback": [
      "\u001b[0;31m---------------------------------------------------------------------------\u001b[0m",
      "\u001b[0;31mNameError\u001b[0m                                 Traceback (most recent call last)",
      "\u001b[0;32m<ipython-input-3-21669cb08e9c>\u001b[0m in \u001b[0;36m<module>\u001b[0;34m()\u001b[0m\n\u001b[0;32m----> 1\u001b[0;31m \u001b[0mf\u001b[0m\u001b[0;34m,\u001b[0m \u001b[0;34m(\u001b[0m\u001b[0max1\u001b[0m\u001b[0;34m,\u001b[0m \u001b[0max2\u001b[0m\u001b[0;34m,\u001b[0m \u001b[0max3\u001b[0m\u001b[0;34m)\u001b[0m \u001b[0;34m=\u001b[0m \u001b[0mplt\u001b[0m\u001b[0;34m.\u001b[0m\u001b[0msubplots\u001b[0m\u001b[0;34m(\u001b[0m\u001b[0;36m1\u001b[0m\u001b[0;34m,\u001b[0m \u001b[0;36m3\u001b[0m\u001b[0;34m)\u001b[0m\u001b[0;34m\u001b[0m\u001b[0m\n\u001b[0m\u001b[1;32m      2\u001b[0m \u001b[0;34m\u001b[0m\u001b[0m\n\u001b[1;32m      3\u001b[0m \u001b[0;34m\u001b[0m\u001b[0m\n\u001b[1;32m      4\u001b[0m \u001b[0mplt\u001b[0m\u001b[0;34m.\u001b[0m\u001b[0msca\u001b[0m\u001b[0;34m(\u001b[0m\u001b[0max1\u001b[0m\u001b[0;34m)\u001b[0m\u001b[0;34m\u001b[0m\u001b[0m\n\u001b[1;32m      5\u001b[0m \u001b[0max2\u001b[0m\u001b[0;34m.\u001b[0m\u001b[0mset_title\u001b[0m\u001b[0;34m(\u001b[0m\u001b[0;34m'Y2h'\u001b[0m\u001b[0;34m)\u001b[0m\u001b[0;34m\u001b[0m\u001b[0m\n",
      "\u001b[0;31mNameError\u001b[0m: name 'plt' is not defined"
     ]
    }
   ],
   "source": [
    "f, (ax1, ax2, ax3) = plt.subplots(1, 3)\n",
    "\n",
    "\n",
    "plt.sca(ax1)\n",
    "ax2.set_title('Y2h')\n",
    "nx.draw(g_y2h, node_size = 10)\n",
    "\n",
    "plt.sca(ax2)\n",
    "ax3.set_title('APMS')\n",
    "nx.draw(g_apms, node_size = 10)\n",
    "\n",
    "plt.sca(ax3)\n",
    "ax1.set_title('Lit')\n",
    "nx.draw(g_lit, node_size = 10)"
   ]
  },
  {
   "cell_type": "markdown",
   "metadata": {},
   "source": [
    "### Punto b"
   ]
  },
  {
   "cell_type": "markdown",
   "metadata": {},
   "source": [
    "Presentamos una tabla con los datos que se pedian"
   ]
  },
  {
   "cell_type": "code",
   "execution_count": 93,
   "metadata": {},
   "outputs": [
    {
     "data": {
      "text/html": [
       "<div>\n",
       "<style scoped>\n",
       "    .dataframe tbody tr th:only-of-type {\n",
       "        vertical-align: middle;\n",
       "    }\n",
       "\n",
       "    .dataframe tbody tr th {\n",
       "        vertical-align: top;\n",
       "    }\n",
       "\n",
       "    .dataframe thead th {\n",
       "        text-align: right;\n",
       "    }\n",
       "</style>\n",
       "<table border=\"1\" class=\"dataframe\">\n",
       "  <thead>\n",
       "    <tr style=\"text-align: right;\">\n",
       "      <th></th>\n",
       "      <th>$$&lt;C_{i}&gt;$$</th>\n",
       "      <th>$$C_{\\Delta}$$</th>\n",
       "      <th>$$K_{max}$$</th>\n",
       "      <th>$$K_{min}$$</th>\n",
       "      <th>$$\\overline{K_{in}}$$</th>\n",
       "      <th>$$\\overline{K_{out}}$$</th>\n",
       "      <th>$$\\overline{K}$$</th>\n",
       "      <th>Densidad</th>\n",
       "      <th>Diametro (para la componente gigante)</th>\n",
       "      <th>Dirigida?</th>\n",
       "      <th>L</th>\n",
       "      <th>N</th>\n",
       "      <th>Nombre de la red</th>\n",
       "    </tr>\n",
       "  </thead>\n",
       "  <tbody>\n",
       "    <tr>\n",
       "      <th>0</th>\n",
       "      <td>0.046194</td>\n",
       "      <td>0.023614</td>\n",
       "      <td>91</td>\n",
       "      <td>1</td>\n",
       "      <td>1.45193</td>\n",
       "      <td>1.45193</td>\n",
       "      <td>2.903865</td>\n",
       "      <td>0.001440</td>\n",
       "      <td>14</td>\n",
       "      <td>Si</td>\n",
       "      <td>2930</td>\n",
       "      <td>2018</td>\n",
       "      <td>Y2H</td>\n",
       "    </tr>\n",
       "    <tr>\n",
       "      <th>1</th>\n",
       "      <td>0.554636</td>\n",
       "      <td>0.618590</td>\n",
       "      <td>127</td>\n",
       "      <td>1</td>\n",
       "      <td>-</td>\n",
       "      <td>-</td>\n",
       "      <td>11.183724</td>\n",
       "      <td>0.006899</td>\n",
       "      <td>15</td>\n",
       "      <td>No</td>\n",
       "      <td>9070</td>\n",
       "      <td>1622</td>\n",
       "      <td>AP-MS</td>\n",
       "    </tr>\n",
       "    <tr>\n",
       "      <th>2</th>\n",
       "      <td>0.292492</td>\n",
       "      <td>0.346193</td>\n",
       "      <td>40</td>\n",
       "      <td>1</td>\n",
       "      <td>1.9043</td>\n",
       "      <td>1.9043</td>\n",
       "      <td>3.808594</td>\n",
       "      <td>0.002481</td>\n",
       "      <td>19</td>\n",
       "      <td>Si</td>\n",
       "      <td>2925</td>\n",
       "      <td>1536</td>\n",
       "      <td>Lit</td>\n",
       "    </tr>\n",
       "  </tbody>\n",
       "</table>\n",
       "</div>"
      ],
      "text/plain": [
       "   $$<C_{i}>$$  $$C_{\\Delta}$$  $$K_{max}$$  $$K_{min}$$  \\\n",
       "0     0.046194        0.023614           91            1   \n",
       "1     0.554636        0.618590          127            1   \n",
       "2     0.292492        0.346193           40            1   \n",
       "\n",
       "  $$\\overline{K_{in}}$$ $$\\overline{K_{out}}$$  $$\\overline{K}$$  Densidad  \\\n",
       "0               1.45193                1.45193          2.903865  0.001440   \n",
       "1                     -                      -         11.183724  0.006899   \n",
       "2                1.9043                 1.9043          3.808594  0.002481   \n",
       "\n",
       "   Diametro (para la componente gigante) Dirigida?     L     N  \\\n",
       "0                                     14        Si  2930  2018   \n",
       "1                                     15        No  9070  1622   \n",
       "2                                     19        Si  2925  1536   \n",
       "\n",
       "  Nombre de la red  \n",
       "0              Y2H  \n",
       "1            AP-MS  \n",
       "2              Lit  "
      ]
     },
     "execution_count": 93,
     "metadata": {},
     "output_type": "execute_result"
    }
   ],
   "source": [
    "data = pd.DataFrame({\"Nombre de la red\": ['Y2H','AP-MS','Lit'],\n",
    "                     \"N\":[2018,1622,1536],\n",
    "                     \"L\":[2930,9070,2925],\n",
    "                     \"Dirigida?\":['Si','No','Si'],\n",
    "                     \"$$\\overline{K}$$\":[2.9038652130822595,11.183723797780518,3.80859375],\n",
    "                     \"$$\\overline{K_{in}}$$\":[1.4519326065411298,'-',1.904296875],\n",
    "                     \"$$\\overline{K_{out}}$$\":[1.4519326065411298,'-',1.904296875],\n",
    "                     \"$$K_{min}$$\":[1,1,1],\n",
    "                     \"$$K_{max}$$\":[91,127,40],\n",
    "                     \"Densidad\":[0.0014396951973635397,0.006899274397150227,0.002481168566775244],\n",
    "                     \"$$<C_{i}>$$\":[0.046194001297365124,0.5546360657013015,0.2924923005815713],\n",
    "                     \"$$C_{\\Delta}$$\":[0.02361415364051535, 0.6185901626483971, 0.3461926495315878],\n",
    "                     \"Diametro (para la componente gigante)\":[14,15,19],\n",
    "                    })#empty dataframe\n",
    "data"
   ]
  },
  {
   "cell_type": "markdown",
   "metadata": {},
   "source": [
    "Obs: Los valores que tienen un asterisco se computaron asumiendo que las redes Y2h y Lit son no dirigidas."
   ]
  },
  {
   "cell_type": "markdown",
   "metadata": {},
   "source": [
    "A continuación, se desarrollan los calculos para obtenes los valores de la tabla."
   ]
  },
  {
   "cell_type": "markdown",
   "metadata": {},
   "source": [
    "El criterio para disernir si una red es dirigida es el siguiente. Si observamos en la lista de conecciones entre nodos de la red que existen pares de nodos conetados 2 veces entre sí, la red es dirigida. "
   ]
  },
  {
   "cell_type": "code",
   "execution_count": 45,
   "metadata": {},
   "outputs": [
    {
     "name": "stdout",
     "output_type": "stream",
     "text": [
      "112.5 0.0 40.5\n"
     ]
    }
   ],
   "source": [
    "print(es_dirigido(y2h), es_dirigido(apms),\n",
    "      es_dirigido(lit))"
   ]
  },
  {
   "cell_type": "markdown",
   "metadata": {},
   "source": [
    "Vemos que bajo este criterio, las redes Y2H y Lit son dirigidas, mientras que la red AP-MS no."
   ]
  },
  {
   "cell_type": "markdown",
   "metadata": {},
   "source": [
    "Observación: Charlando con los chicos de la práctica, coincidimos en que este criterio para distinguir entre redes dirigidas y no dirigidas no es correcto, ya que el hecho de que exista mas de una concección entre el mismo par de nodos se puede deber a que la red no fue lo suficientemente depurada. Eventualmente vamos a asumir que las tres redes son no dirigidas."
   ]
  },
  {
   "cell_type": "markdown",
   "metadata": {},
   "source": [
    "Para calcular cuantos nodos hay:"
   ]
  },
  {
   "cell_type": "code",
   "execution_count": 51,
   "metadata": {},
   "outputs": [
    {
     "name": "stdout",
     "output_type": "stream",
     "text": [
      "El número de nodos de cada grafo es 2018 1622 1536\n"
     ]
    }
   ],
   "source": [
    "print('El número de nodos de cada grafo es',\n",
    "      g_y2h.order(), g_apms.order(), g_lit.order()) "
   ]
  },
  {
   "cell_type": "markdown",
   "metadata": {},
   "source": [
    "Para calcular cuantos enlaces hay:"
   ]
  },
  {
   "cell_type": "code",
   "execution_count": 52,
   "metadata": {},
   "outputs": [
    {
     "name": "stdout",
     "output_type": "stream",
     "text": [
      "El número de enlaces para cada grafo es 2930 9070 2925\n"
     ]
    }
   ],
   "source": [
    "print('El número de enlaces para cada grafo es',\n",
    "      g_y2h.size(), g_apms.size(), g_lit.size())"
   ]
  },
  {
   "cell_type": "markdown",
   "metadata": {},
   "source": [
    "Calculamos el grado medio (sin tener en cuenta la dirección de los enlaces) para las 3 redes, y el grado medio de entrada y de salida para las redes dirigidas."
   ]
  },
  {
   "cell_type": "code",
   "execution_count": 58,
   "metadata": {},
   "outputs": [
    {
     "name": "stdout",
     "output_type": "stream",
     "text": [
      "Grados medios\n",
      "2.9038652130822595 11.183723797780518 3.80859375\n",
      "Grados medios in\n",
      "1.4519326065411298 ---- 1.904296875\n",
      "Grados medios out\n",
      "1.4519326065411298 ---- 1.904296875\n"
     ]
    }
   ],
   "source": [
    "kin_medio_lit, kout_medio_lit, k_medio_lit = k_medio(g_lit)\n",
    "kin_medio_y2h, kout_medio_y2h, k_medio_y2h = k_medio(g_y2h)\n",
    "_, _, k_medio_apms = k_medio(g_apms)\n",
    "\n",
    "print('Grados medios')\n",
    "print(k_medio_y2h, k_medio_apms, k_medio_lit)\n",
    "print('Grados medios in')\n",
    "print(kin_medio_y2h, '----',kin_medio_lit)\n",
    "print('Grados medios out')\n",
    "print(kout_medio_y2h, '----',kout_medio_lit)\n"
   ]
  },
  {
   "cell_type": "markdown",
   "metadata": {},
   "source": [
    "Para las redes dirigidas,  kin y kout medios dan lo mismo. Esto se explica si pensamos en una red en donde existen 2 nodos que no estan conectados entre si. Si ahora tendemos un enlace dirigido entre ambos, tanto el grado medio kin como el grado medio kout aumentaran."
   ]
  },
  {
   "cell_type": "markdown",
   "metadata": {},
   "source": [
    "Observación: A partir de aqui, se asumira que todas las redes son no dirigidas."
   ]
  },
  {
   "cell_type": "code",
   "execution_count": 59,
   "metadata": {},
   "outputs": [],
   "source": [
    "g_apms = nx.Graph()\n",
    "g_apms.add_edges_from(apms)\n",
    "\n",
    "g_lit = nx.Graph()\n",
    "g_lit.add_edges_from(lit)\n",
    "\n",
    "g_y2h = nx.Graph()\n",
    "g_y2h.add_edges_from(y2h)"
   ]
  },
  {
   "cell_type": "markdown",
   "metadata": {},
   "source": [
    "Calculo del grado maximo y el grado minimo."
   ]
  },
  {
   "cell_type": "code",
   "execution_count": 63,
   "metadata": {},
   "outputs": [
    {
     "name": "stdout",
     "output_type": "stream",
     "text": [
      "Grados extremos\n",
      "K_min: 1 1 1\n",
      "K_max: 91 127 40\n"
     ]
    }
   ],
   "source": [
    "k_min_apms, k_max_apms = k_extremos(g_apms)\n",
    "k_min_lit, k_max_lit = k_extremos(g_lit)\n",
    "k_min_y2h, k_max_y2h = k_extremos(g_y2h)\n",
    "print('Grados extremos')\n",
    "print('K_min:', k_min_y2h,  k_min_apms, k_min_lit)\n",
    "print('K_max:', k_max_y2h,  k_max_apms, k_max_lit)"
   ]
  },
  {
   "cell_type": "markdown",
   "metadata": {},
   "source": [
    "Para calcular la densidad de la red, usamos la función nx.density."
   ]
  },
  {
   "cell_type": "code",
   "execution_count": 67,
   "metadata": {},
   "outputs": [
    {
     "name": "stdout",
     "output_type": "stream",
     "text": [
      "La densidad de las redes es 0.0014396951973635397 0.006899274397150227 0.002481168566775244\n"
     ]
    }
   ],
   "source": [
    "print('La densidad de las redes es', nx.density(g_y2h), nx.density(g_apms), nx.density(g_lit))"
   ]
  },
  {
   "cell_type": "markdown",
   "metadata": {},
   "source": [
    "Vamos a calcular dos coeficientes de clusterig. El primero (<C_i>) es un promedio entre los coeficientes de cluesting local de cada nodo de la red. El segundo (C_Δ) es un coeficiente de clustering global que mide la proporción de triganulo formados en la red sobre el número de triadas de la misma."
   ]
  },
  {
   "cell_type": "code",
   "execution_count": 70,
   "metadata": {},
   "outputs": [
    {
     "name": "stdout",
     "output_type": "stream",
     "text": [
      "C_Δ\n",
      "0.02361415364051535 0.6185901626483971 0.3461926495315878\n",
      "<C_i>\n",
      "0.046194001297365124\n",
      "0.5546360657013015\n",
      "0.2924923005815713\n"
     ]
    }
   ],
   "source": [
    "print('C_Δ')\n",
    "print (nx.transitivity(g_y2h), nx.transitivity(g_apms),\n",
    "       nx.transitivity(g_lit))\n",
    "\n",
    "print('<C_i>')\n",
    "print(clustering_medio(g_y2h))\n",
    "print(clustering_medio(g_apms))\n",
    "print(clustering_medio(g_lit))"
   ]
  },
  {
   "cell_type": "markdown",
   "metadata": {},
   "source": [
    "Observacion importante: El método C_Δ no diferencia entre enlaces entrantes y salientes en redes dirigidas. El método <C_i> no está definido para redes dirigidas."
   ]
  },
  {
   "cell_type": "markdown",
   "metadata": {},
   "source": [
    "Para calcular el diámetro de la red, utilizamos la función nx.diameter."
   ]
  },
  {
   "cell_type": "code",
   "execution_count": 75,
   "metadata": {},
   "outputs": [
    {
     "ename": "NetworkXError",
     "evalue": "Found infinite path length because the graph is not connected",
     "output_type": "error",
     "traceback": [
      "\u001b[0;31m---------------------------------------------------------------------------\u001b[0m",
      "\u001b[0;31mNetworkXError\u001b[0m                             Traceback (most recent call last)",
      "\u001b[0;32m<ipython-input-75-1e09bdf24a12>\u001b[0m in \u001b[0;36m<module>\u001b[0;34m()\u001b[0m\n\u001b[0;32m----> 1\u001b[0;31m \u001b[0mprint\u001b[0m\u001b[0;34m(\u001b[0m\u001b[0;34m'El diámetro de las redes es'\u001b[0m\u001b[0;34m,\u001b[0m \u001b[0mnx\u001b[0m\u001b[0;34m.\u001b[0m\u001b[0mdiameter\u001b[0m\u001b[0;34m(\u001b[0m\u001b[0mg_y2h\u001b[0m\u001b[0;34m)\u001b[0m\u001b[0;34m,\u001b[0m \u001b[0mnx\u001b[0m\u001b[0;34m.\u001b[0m\u001b[0mdiameter\u001b[0m\u001b[0;34m(\u001b[0m\u001b[0mg_apms\u001b[0m\u001b[0;34m)\u001b[0m\u001b[0;34m,\u001b[0m\u001b[0mnx\u001b[0m\u001b[0;34m.\u001b[0m\u001b[0mdiameter\u001b[0m\u001b[0;34m(\u001b[0m\u001b[0mg_lit\u001b[0m\u001b[0;34m)\u001b[0m\u001b[0;34m)\u001b[0m\u001b[0;34m\u001b[0m\u001b[0m\n\u001b[0m",
      "\u001b[0;32m~/anaconda3/lib/python3.6/site-packages/networkx/algorithms/distance_measures.py\u001b[0m in \u001b[0;36mdiameter\u001b[0;34m(G, e, usebounds)\u001b[0m\n\u001b[1;32m    274\u001b[0m         \u001b[0;32mreturn\u001b[0m \u001b[0mextrema_bounding\u001b[0m\u001b[0;34m(\u001b[0m\u001b[0mG\u001b[0m\u001b[0;34m,\u001b[0m \u001b[0mcompute\u001b[0m\u001b[0;34m=\u001b[0m\u001b[0;34m\"diameter\"\u001b[0m\u001b[0;34m)\u001b[0m\u001b[0;34m\u001b[0m\u001b[0m\n\u001b[1;32m    275\u001b[0m     \u001b[0;32mif\u001b[0m \u001b[0me\u001b[0m \u001b[0;32mis\u001b[0m \u001b[0;32mNone\u001b[0m\u001b[0;34m:\u001b[0m\u001b[0;34m\u001b[0m\u001b[0m\n\u001b[0;32m--> 276\u001b[0;31m         \u001b[0me\u001b[0m \u001b[0;34m=\u001b[0m \u001b[0meccentricity\u001b[0m\u001b[0;34m(\u001b[0m\u001b[0mG\u001b[0m\u001b[0;34m)\u001b[0m\u001b[0;34m\u001b[0m\u001b[0m\n\u001b[0m\u001b[1;32m    277\u001b[0m     \u001b[0;32mreturn\u001b[0m \u001b[0mmax\u001b[0m\u001b[0;34m(\u001b[0m\u001b[0me\u001b[0m\u001b[0;34m.\u001b[0m\u001b[0mvalues\u001b[0m\u001b[0;34m(\u001b[0m\u001b[0;34m)\u001b[0m\u001b[0;34m)\u001b[0m\u001b[0;34m\u001b[0m\u001b[0m\n\u001b[1;32m    278\u001b[0m \u001b[0;34m\u001b[0m\u001b[0m\n",
      "\u001b[0;32m~/anaconda3/lib/python3.6/site-packages/networkx/algorithms/distance_measures.py\u001b[0m in \u001b[0;36meccentricity\u001b[0;34m(G, v, sp)\u001b[0m\n\u001b[1;32m    239\u001b[0m                 msg = ('Found infinite path length because the graph is not'\n\u001b[1;32m    240\u001b[0m                        ' connected')\n\u001b[0;32m--> 241\u001b[0;31m             \u001b[0;32mraise\u001b[0m \u001b[0mnetworkx\u001b[0m\u001b[0;34m.\u001b[0m\u001b[0mNetworkXError\u001b[0m\u001b[0;34m(\u001b[0m\u001b[0mmsg\u001b[0m\u001b[0;34m)\u001b[0m\u001b[0;34m\u001b[0m\u001b[0m\n\u001b[0m\u001b[1;32m    242\u001b[0m \u001b[0;34m\u001b[0m\u001b[0m\n\u001b[1;32m    243\u001b[0m         \u001b[0me\u001b[0m\u001b[0;34m[\u001b[0m\u001b[0mn\u001b[0m\u001b[0;34m]\u001b[0m \u001b[0;34m=\u001b[0m \u001b[0mmax\u001b[0m\u001b[0;34m(\u001b[0m\u001b[0mlength\u001b[0m\u001b[0;34m.\u001b[0m\u001b[0mvalues\u001b[0m\u001b[0;34m(\u001b[0m\u001b[0;34m)\u001b[0m\u001b[0;34m)\u001b[0m\u001b[0;34m\u001b[0m\u001b[0m\n",
      "\u001b[0;31mNetworkXError\u001b[0m: Found infinite path length because the graph is not connected"
     ]
    }
   ],
   "source": [
    "print('El diámetro de las redes es', nx.diameter(g_y2h), nx.diameter(g_apms),nx.diameter(g_lit))"
   ]
  },
  {
   "cell_type": "markdown",
   "metadata": {},
   "source": [
    "Como se observa, el diametro de las tres redes es infinito, ya que existen nodos que no estan conectados entre si. Lo que podemos hacer es calcular el diámetro de la componente gigante."
   ]
  },
  {
   "cell_type": "code",
   "execution_count": 84,
   "metadata": {},
   "outputs": [],
   "source": [
    "#Creamos sub-redes que consten unicamente de las componentes gigantes \n",
    "#de las redes originales y les calculamos el diámetro.\n",
    "\n",
    "gc_y2h = max(nx.connected_component_subgraphs(g_y2h), key=len)\n",
    "gc_apms = max(nx.connected_component_subgraphs(g_apms), key=len)\n",
    "gc_lit = max(nx.connected_component_subgraphs(g_lit), key=len)"
   ]
  },
  {
   "cell_type": "code",
   "execution_count": 85,
   "metadata": {},
   "outputs": [
    {
     "name": "stdout",
     "output_type": "stream",
     "text": [
      "Diámetro para la red Y2H 14\n",
      "Diámetro para la red AP-MS 15\n",
      "Diámetro para la red Lit 19\n"
     ]
    }
   ],
   "source": [
    "print('Diámetro para la red Y2H', nx.diameter(gc_y2h))\n",
    "print('Diámetro para la red AP-MS', nx.diameter(gc_apms))\n",
    "print('Diámetro para la red Lit', nx.diameter(gc_lit))"
   ]
  },
  {
   "cell_type": "markdown",
   "metadata": {},
   "source": [
    "### Punto c"
   ]
  },
  {
   "cell_type": "markdown",
   "metadata": {},
   "source": [
    "Algunas observaciones que podemos hacer a partir de nuestro analisis. En primer lugar, se observa que los coeficientes de clustering y la densidad de la red AP-MS es mayor que la de la red Y2H y la red Lit, que a su vez poseen densidad y clusterizacion similar. Esto va en concordancia con el hecho de que la red AP-MS tiende a organizarse en clickers (grupos de nodos, todos conectados con todos), como se puede observar en la grafica de la misma."
   ]
  },
  {
   "cell_type": "markdown",
   "metadata": {},
   "source": [
    "## Ejercicio 2"
   ]
  },
  {
   "cell_type": "markdown",
   "metadata": {},
   "source": [
    "Importamos nuestras librerías"
   ]
  },
  {
   "cell_type": "code",
   "execution_count": 2,
   "metadata": {},
   "outputs": [],
   "source": [
    "import networkx as nx\n",
    "import numpy as np\n",
    "import matplotlib.pyplot as plt\n",
    "from networkx.readwrite.gml import read_gml\n",
    "from random import sample\n",
    "from lectura import ldata\n",
    "import sys\n",
    "from collections import Counter\n",
    "sys.path.append('./Tp1/')"
   ]
  },
  {
   "cell_type": "markdown",
   "metadata": {},
   "source": [
    "Definimos las funciones que vamos a utilizar."
   ]
  },
  {
   "cell_type": "code",
   "execution_count": 3,
   "metadata": {},
   "outputs": [],
   "source": [
    "#Para graficar\n",
    "def genero_a_color(gender):\n",
    "    if gender=='m':\n",
    "        return 'red'\n",
    "    elif gender=='f':\n",
    "        return 'dodgerblue'\n",
    "    else:\n",
    "        return 'green'\n",
    "    \n",
    "def particionar_por_genero(G, orden={'f':0, 'NA':1, 'm':2}):\n",
    "    particiones = [[], [], []]\n",
    "    for key in dict(G.nodes).keys():\n",
    "        gender = G.nodes[key]['gender']\n",
    "        if gender=='f':\n",
    "            particiones[orden[gender]].append(key)\n",
    "        elif gender=='m':\n",
    "            particiones[orden[gender]].append(key)\n",
    "        else:\n",
    "            particiones[orden[gender]].append(key)\n",
    "    return particiones\n",
    "\n",
    "def crear_leyenda(ax):\n",
    "    ax.plot([],[], 'o', color='dodgerblue', label='Hembras')\n",
    "    ax.plot([],[], 'o', color='red', label='Machos')\n",
    "    ax.plot([],[], 'o', color='black', label='NA')\n",
    "    ax.legend()\n",
    "    \n",
    "    \n",
    "def histograma(valores_a_binear, bins='auto', errbars=True, density=True,\n",
    "               logbins=False, logx=False, logy=False,\n",
    "               ax=None,\n",
    "               titulo=None, xlabel=None, ylabel=True,\n",
    "               labelsize=18, ticksize=16,\n",
    "               ecolor=None, anotacion=False):\n",
    "    \"\"\"Función maestra (?) para realizar los histogramas más bellos que usted\n",
    "    haya soñado jamás.\n",
    "    \n",
    "    Inputs\n",
    "    ------\n",
    "    valores_a_binear : lista o ndarray\n",
    "        Los valores que se van a volcar en el histograma\n",
    "    bins : int, list, string o 3-tuple        \n",
    "        Si es int, es el número de bines. Si es list, debe ser la lista de\n",
    "        los bordes de los bines. Si es string 'auto', funciona igual\n",
    "        que pasarle bins='auto' a la función np.histogram. Si es una tupla,\n",
    "        sus elementos deben ser la pos. del borde izquierdo del 1er bin, la\n",
    "        pos. del borde derecho del último bin, y el número de bines deseado\n",
    "        (en ese orden).\n",
    "    titulo : string\n",
    "        Título a ponerle al histograma.\n",
    "    xlabel : string\n",
    "        Rótulo del eje x del histograma\n",
    "    density : Bool\n",
    "        Si True, grafica el histograma normalizado (funciona bien incluso si\n",
    "        los bines son de diferente tamaño)\n",
    "    logbins : Bool\n",
    "        Si True, y bins es una 3-tupla con inicio, final y número de bines,\n",
    "        entonces el tamaño de los bines entre inicio y final crece \n",
    "        exponencialmente (ancho constante en escala logarítmica en eje x).\n",
    "    logx : Bool\n",
    "        Si True, se grafica el eje x en escala logarítmica.\n",
    "    logy : Bool\n",
    "        Si True, se grafica el eje y en escala logarítmica.\n",
    "    ax : matplotlib.axes.Axes object\n",
    "        axes sobre el cual graficar el histograma. Si es None, crea una nueva\n",
    "        figura para graficar.\n",
    "    ecolor : string\n",
    "        Color de los bordes de los bines. Si esNone, los bines no tienen bordes\n",
    "        diferenciados.\n",
    "    anotacion : Bool\n",
    "        Si True, agrega un cuadro con el número de eventos y de bines graficados\n",
    "        Por ahora, el lugar en que el cuadro se coloca es estático y puede\n",
    "        solaparse con el histograma.\n",
    "        \n",
    "    Notas\n",
    "    -----\n",
    "    Si bien no está expuesto de manera explícita, esta función también sirve\n",
    "    para hacer histogramas de cantidades discretas en escala lineal (en los\n",
    "    cuales es habitual no agregar eventos correspondientes a números enteros\n",
    "    diferentes). Para ello, basta pasar como parámetro\n",
    "        bins=np.arange(x_inicial, x_final+2).\n",
    "    El +2 dos es por lo siguiente: un +1 es necesario para que np.arange\n",
    "    incluya el valor x_final en el array resultante, y otro es necesario para\n",
    "    que además incluya el valor x_final + 1 que corresponde al borde derecho\n",
    "    del último bin, el cual es necesario pasar a np.histogram.\n",
    "    \"\"\"\n",
    "    \n",
    "    if ax is None:\n",
    "        with plt.style.context(('seaborn')):\n",
    "            fig, ax = plt.subplots()\n",
    "    else:\n",
    "        fig = ax.get_figure()\n",
    "        \n",
    "    if logx:\n",
    "        ax.set_xscale('log')\n",
    "    if logy:\n",
    "        ax.set_yscale('log')\n",
    "\n",
    "    if isinstance(bins, tuple):\n",
    "        if logbins:\n",
    "            start, stop, nbins = bins\n",
    "            bins = np.geomspace(start, stop, num=nbins)\n",
    "#            ax.plot(bins,[0]*len(bins), '+k') # testing\n",
    "        else:\n",
    "            start, stop, nbins = bins\n",
    "            bins = np.linspace(start, stop, num=nbins)\n",
    "        \n",
    "    conteos, bordes_bines = np.histogram(valores_a_binear, bins=bins)\n",
    "    w = np.diff(bordes_bines) # Anchos de los bines\n",
    "    \n",
    "    # Normalizar, si es necesario, y asignar errores\n",
    "    if density == True:\n",
    "        cnorm = conteos / (np.sum(conteos) * w)\n",
    "        enorm = np.sqrt(conteos) / (np.sum(conteos) * w)\n",
    "        conteos, errores = cnorm, enorm\n",
    "    else:\n",
    "        errores = np.sqrt(conteos)\n",
    "    \n",
    "    # Graficar\n",
    "    if errbars:\n",
    "        ax.bar(bordes_bines[:-1], conteos, width=w, yerr=errores, align='edge',\n",
    "               color='dodgerblue', capsize=0, edgecolor=ecolor)\n",
    "    else:\n",
    "        ax.bar(bordes_bines[:-1], conteos, width=w, align='edge',\n",
    "               color='dodgerblue', edgecolor=ecolor)\n",
    "    \n",
    "    ax.tick_params(labelsize=ticksize)\n",
    "    if titulo != None:\n",
    "        ax.set_title(titulo, fontsize=labelsize)\n",
    "    if xlabel != None:\n",
    "        ax.set_xlabel(xlabel, fontsize=labelsize)\n",
    "    if ylabel:\n",
    "        ylabel = '# de eventos' if density==False else '# de eventos normalizado'\n",
    "        ax.set_ylabel(ylabel, fontsize=labelsize)    \n",
    "    if anotacion:\n",
    "        num_bines = len(bordes_bines) - 1\n",
    "        anotacion = ('$N = $' + str(len(valores_a_binear))+ '\\n' +\n",
    "                     r'$N_{bines}$ = ' + str(num_bines))\n",
    "        ax.annotate(anotacion,\n",
    "                    (.8, .8), xycoords='axes fraction',\n",
    "                    backgroundcolor='w', fontsize=14)\n",
    "    \n",
    "    fig.tight_layout()\n",
    "    plt.show()\n",
    "    return fig, ax"
   ]
  },
  {
   "cell_type": "code",
   "execution_count": 4,
   "metadata": {},
   "outputs": [],
   "source": [
    "#Para graficar red multipartita\n",
    "def position_multipartito(g, clases, nombre_clase):\n",
    "    \"\"\"g es un objeto Graph de networkX, cuyos nodos deben tener un atributo\n",
    "    llamado nombre_clase. clases es una lista con los valores posibles que\n",
    "    puede adoptar dicho atributo (que corresponderán cada uno a una columna).\n",
    "    Devuelve un diccionario cuyos keys son los nombres de los nodos y cuyos\n",
    "    valores son las posiciones para graficar.\n",
    "    Ejemplo con datos de los delfines:\n",
    "        clases == ['f', 'm', 'NA']\n",
    "        nombre_clase == 'gender'\n",
    "      \n",
    "    Modificado a partir de código de James A. Foster en\n",
    "    https://stackoverflow.com/questions/35472402/how-do-display-bipartite-graphs-with-python-networkx-package\n",
    "    \"\"\"\n",
    "    xPos = {}\n",
    "    yPos = {}\n",
    "    for indice, clase in enumerate(clases):\n",
    "        xPos[clase] = indice\n",
    "        yPos[clase] = 0\n",
    "\n",
    "    pos = {}\n",
    "    for node, attrDict in g.nodes(data=True): # Piola sintaxis lo de data=True\n",
    "        clase_nodo = attrDict[nombre_clase]\n",
    "        # print('Nodo: {}\\t{}: {}'.format(node, nombre_clase, clase_nodo))     \n",
    "        # print('\\t(x,y): ({},{})'.format(xPos[clase_nodo], yPos[clase_nodo]))\n",
    "        pos[node] = (xPos[clase_nodo], yPos[clase_nodo])\n",
    "        yPos[clase_nodo] += 2\n",
    "\n",
    "    return pos\n",
    "\n",
    "def position_multipartito_random(g, clases, nombre_clase, dhorizontal=2):\n",
    "    \"\"\"g es un objeto Graph de networkX, cuyos nodos deben tener un atributo\n",
    "    llamado nombre_clase. clases es una lista con los valores posibles que\n",
    "    puede adoptar dicho atributo (que corresponderán cada uno a una columna).\n",
    "    dhorizontal es el espaciado entre clases diferentes de nodos.\n",
    "    Devuelve un diccionario cuyos keys son los nombres de los nodos y cuyos\n",
    "    valores son las posiciones para graficar.\n",
    "    Ejemplo con datos de los delfines:\n",
    "        clases == ['f', 'm', 'NA']\n",
    "        nombre_clase == 'gender'\n",
    "    \"\"\"\n",
    "\n",
    "    pos = nx.random_layout(g)\n",
    "    for node, attrDict in g.nodes(data=True):\n",
    "        clase_nodo = attrDict[nombre_clase]\n",
    "        for i, clase in enumerate(clases):\n",
    "            if clase_nodo==clase:\n",
    "                adicion = dhorizontal*i\n",
    "        posx_old = pos[node][0]\n",
    "        posy_old = pos[node][1]\n",
    "        pos[node] = np.array([posx_old + adicion, posy_old])\n",
    "    return pos\n",
    "def position_multipartito_spectral(g, clases, nombre_clase, dhorizontal=2):\n",
    "    \"\"\"g es un objeto Graph de networkX, cuyos nodos deben tener un atributo\n",
    "    llamado nombre_clase. clases es una lista con los valores posibles que\n",
    "    puede adoptar dicho atributo (que corresponderán cada uno a una columna).\n",
    "    dhorizontal es el espaciado entre clases diferentes de nodos.\n",
    "    Devuelve un diccionario cuyos keys son los nombres de los nodos y cuyos\n",
    "    valores son las posiciones para graficar.\n",
    "    Ejemplo con datos de los delfines:\n",
    "        clases == ['f', 'm', 'NA']\n",
    "        nombre_clase == 'gender'\n",
    "    \"\"\"\n",
    "  \n",
    "    pos = nx.spectral_layout(g)\n",
    "    for node, attrDict in g.nodes(data=True):\n",
    "        clase_nodo = attrDict[nombre_clase]\n",
    "        for i, clase in enumerate(clases):\n",
    "            if clase_nodo==clase:\n",
    "                adicion = dhorizontal*i\n",
    "        posx_old = pos[node][0]\n",
    "        posy_old = pos[node][1]\n",
    "        pos[node] = np.array([posx_old + adicion, posy_old])\n",
    "    return pos\n",
    "\n",
    "def position_multipartito_spring(g, clases, nombre_clase, dhorizontal=1):\n",
    "    \"\"\"g es un objeto Graph de networkX, cuyos nodos deben tener un atributo\n",
    "    llamado nombre_clase. clases es una lista con los valores posibles que\n",
    "    puede adoptar dicho atributo (que corresponderán cada uno a una columna).\n",
    "    dhorizontal es el espaciado entre clases diferentes de nodos.\n",
    "    Devuelve un diccionario cuyos keys son los nombres de los nodos y cuyos\n",
    "    valores son las posiciones para graficar.\n",
    "    Ejemplo con datos de los delfines:\n",
    "        clases == ['f', 'm', 'NA']\n",
    "        nombre_clase == 'gender'\n",
    "    \"\"\"\n",
    "  \n",
    "    pos = nx.spring_layout(g)\n",
    "    for node, attrDict in g.nodes(data=True):\n",
    "        clase_nodo = attrDict[nombre_clase]\n",
    "        for i, clase in enumerate(clases):\n",
    "            if clase_nodo==clase:\n",
    "                adicion = dhorizontal*i\n",
    "        posx_old = pos[node][0]\n",
    "        posy_old = pos[node][1]\n",
    "        pos[node] = np.array([posx_old + adicion, posy_old])\n",
    "    return pos\n",
    "\n",
    "def position_multipartito_kk(g, clases, nombre_clase, dhorizontal=1):\n",
    "    \"\"\"g es un objeto Graph de networkX, cuyos nodos deben tener un atributo\n",
    "    llamado nombre_clase. clases es una lista con los valores posibles que\n",
    "    puede adoptar dicho atributo (que corresponderán cada uno a una columna).\n",
    "    dhorizontal es el espaciado entre clases diferentes de nodos.\n",
    "    Devuelve un diccionario cuyos keys son los nombres de los nodos y cuyos\n",
    "    valores son las posiciones para graficar.\n",
    "    Ejemplo con datos de los delfines:\n",
    "      clases == ['f', 'm', 'NA']\n",
    "      nombre_clase == 'gender'\n",
    "    \"\"\"\n",
    "  \n",
    "    pos = nx.kamada_kawai_layout(g)\n",
    "    for node, attrDict in g.nodes(data=True):\n",
    "        clase_nodo = attrDict[nombre_clase]\n",
    "        for i, clase in enumerate(clases):\n",
    "            if clase_nodo==clase:\n",
    "                adicion = dhorizontal*i\n",
    "        posx_old = pos[node][0]\n",
    "        posy_old = pos[node][1]\n",
    "        pos[node] = np.array([posx_old + adicion, posy_old])\n",
    "\n",
    "    return pos"
   ]
  },
  {
   "cell_type": "code",
   "execution_count": 5,
   "metadata": {},
   "outputs": [],
   "source": [
    "#Para cuantificar homofilia.\n",
    "def contar_clases(g, atributo, valores_posibles):\n",
    "    ns = []\n",
    "    for valor in valores_posibles:\n",
    "        n = len([n for n, attrdict in dict(g.nodes).items() if attrdict[atributo]==valor])\n",
    "        ns.append(n)\n",
    "        print('Hay {} nodos con {}={}'.format(n, atributo, valor))\n",
    "    return ns\n",
    "\n",
    "def contar_enlaces_internos(g, atributo, valor):\n",
    "    \"\"\"Cuenta los enlaces internos en el grupo de nodos que tienen\n",
    "    atributo=valor. g debe ser objeto Graph de NetworkX.\n",
    "    Ejemplo con delfines: atributo='gender', valor puede ser 'f', 'm' o 'NA'\n",
    "    \"\"\"\n",
    "    nodos = [n for n, attrdict in dict(g.nodes).items() if attrdict[atributo]==valor]\n",
    "    grupo = nx.subgraph(g, nodos)\n",
    "    return grupo.size()\n",
    "\n",
    "def contar_enlaces_entre_grupos(g, atributo):\n",
    "    \"\"\"Cuenta los enlaces que conectan grupos con valores distintos de\n",
    "    atributo. g debe ser objeto Graph de NetworkX.\n",
    "    Ejemplo con delfines: atributo='gender'.\n",
    "    \"\"\"\n",
    "    n = 0\n",
    "    for edge in g.edges():\n",
    "        a, b = edge[0], edge[1]\n",
    "        if g.nodes()[a][atributo] != g.nodes()[b][atributo]:\n",
    "            n = n + 1\n",
    "    return n"
   ]
  },
  {
   "cell_type": "code",
   "execution_count": 6,
   "metadata": {},
   "outputs": [],
   "source": [
    "#Para el calculo de la modularidad\n",
    "def modularidad(g, atributo):\n",
    "    A = nx.adjacency_matrix(g)\n",
    "    B = 0\n",
    "    m = len(g.edges())\n",
    "    k = []\n",
    "    name = []\n",
    "    for key, value in g.degree():\n",
    "        k.append(value)\n",
    "        name.append(key)\n",
    "    for i in range(len(k)):\n",
    "        for j in range(len(k)):\n",
    "            if g.node[name[i]][atributo] == g.node[name[j]][atributo]:\n",
    "                B += A[i, j] - k[i]*k[j]/(2*m)\n",
    "    return float(B)/(2*m)"
   ]
  },
  {
   "cell_type": "code",
   "execution_count": 7,
   "metadata": {},
   "outputs": [],
   "source": [
    "#Para calcular el p-value\n",
    "def p_value(datos, valor_real=52):\n",
    "    enlace = list(Counter(datos).keys())\n",
    "    cuantos = list(Counter(datos).values())\n",
    "    indices = np.where(np.array(enlace)<= valor_real)[0] \n",
    "    a = [cuantos[i] for i in indices]\n",
    "    return 2 * len(a)/len(datos)"
   ]
  },
  {
   "cell_type": "markdown",
   "metadata": {},
   "source": [
    "Importo las red de delfines y a cada uno le asigno un sexo."
   ]
  },
  {
   "cell_type": "code",
   "execution_count": 49,
   "metadata": {},
   "outputs": [],
   "source": [
    "dolph = read_gml('Tp1/tc01_data/new_dolphins.gml')\n",
    "genders = dict(ldata('Tp1/tc01_data/dolphinsGender.txt'))\n",
    "\n",
    "# Agrego los sexos a los dicts de cada delfín\n",
    "for nodo, dict_nodo in dict(dolph.nodes).items():\n",
    "    dict_nodo['gender'] = genders[nodo] # agrego el sexo del delfín a su dict\n",
    "#    print('Key = {}, Value = {}'.format(nodo, dict_nodo)) # para chequear que anda\n",
    "\n",
    "particiones = particionar_por_genero(dolph)\n",
    "colores = [genero_a_color(g) for g in nx.get_node_attributes(dolph, \"gender\").values()]    "
   ]
  },
  {
   "cell_type": "markdown",
   "metadata": {},
   "source": [
    "Hay 34 delfines macho, 24 delfines hembra y 4 delfines sin información"
   ]
  },
  {
   "cell_type": "markdown",
   "metadata": {},
   "source": [
    "### Punto a"
   ]
  },
  {
   "cell_type": "markdown",
   "metadata": {},
   "source": [
    "Graficamos de 9 maneras diferentes. La forma 1 no muestra los linnks homofílicos. La 1, 3, 7, y 9 acumulan los nodos por genero. Por otro lado, la forma 6 denota que existen dos grupos de dellfines que se relacionan mayormente entre ellos, independientemente de su sexo."
   ]
  },
  {
   "cell_type": "code",
   "execution_count": 18,
   "metadata": {},
   "outputs": [
    {
     "data": {
      "image/png": "[encoded data removed]",
      "text/plain": [
       "<matplotlib.figure.Figure at 0x7fafbc2903c8>"
      ]
     },
     "metadata": {},
     "output_type": "display_data"
    }
   ],
   "source": [
    "fig, axes = plt.subplots(3,3)\n",
    "axes = axes.flatten()\n",
    "ns = 25 # Node size\n",
    "# Posicionamiento multipartito (es engañoso: no se ven los links homofílicos)\n",
    "multipartite_pos = position_multipartito(dolph, ['f', 'NA', 'm'], 'gender')\n",
    "nx.draw(dolph, ax = axes[0], node_size = ns, node_color=colores,\n",
    "        pos=multipartite_pos)\n",
    "# Posicionamiento en un círculo\n",
    "nx.draw_circular(dolph, ax = axes[1], node_size = ns, node_color=colores)\n",
    "# Posicionamiento en círculos concéntricos\n",
    "shell_pos = nx.drawing.layout.shell_layout(dolph, particiones)\n",
    "nx.draw(dolph, ax = axes[2], node_size = ns, node_color=colores,\n",
    "        pos=shell_pos)\n",
    "# Posicionamiento al azar\n",
    "nx.draw_random(dolph, ax = axes[3], node_size = ns, node_color=colores)\n",
    "# Posicionamiento espectral\n",
    "nx.draw_spectral(dolph, ax = axes[4],\n",
    "                 node_size = ns, node_color=colores)\n",
    "# Posicionamiento por resortes\n",
    "nx.draw_spring(dolph, ax = axes[5],\n",
    "                 node_size = ns, with_labels=False, node_color=colores)\n",
    "\n",
    "# Posicionamiento multipartito al azar. Posiciono al azar y\n",
    "# luego desplazo lateralmente según género\n",
    "\n",
    "#multi_random_pos = position_multipartito_random(dolph,\n",
    "#                                                ['f', 'm', 'NA'], 'gender')\n",
    "#nx.draw(dolph, ax = axes[6], node_size = ns, node_color=colores,\n",
    "#        pos=multi_random_pos)\n",
    "# Posicionamiento multipartito espectral. Posiciono por espectro y\n",
    "# luego desplazo lateralmente según género\n",
    "#Mati: existe un error bizarro para este graph, chequear despues.\n",
    "\n",
    "\n",
    "multi_spectral_pos = position_multipartito_spectral(dolph, ['f', 'm', 'NA'],\n",
    "                                                    'gender', dhorizontal=0.5)\n",
    "nx.draw(dolph, ax = axes[7], node_size = ns, node_color=colores,\n",
    "        pos=multi_spectral_pos)\n",
    "# Posicionamiento multipartito por resortes. Posiciono por resortes y\n",
    "# luego desplazo lateralmente según género\n",
    "multi_spring_pos = position_multipartito_spring(dolph, ['f', 'm', 'NA'],\n",
    "                                                'gender', dhorizontal=2)\n",
    "nx.draw(dolph, ax = axes[8], node_size = ns, node_color=colores,\n",
    "        pos=multi_spring_pos)"
   ]
  },
  {
   "cell_type": "markdown",
   "metadata": {},
   "source": [
    "## Punto b"
   ]
  },
  {
   "cell_type": "markdown",
   "metadata": {},
   "source": [
    "Primero vamos a quedarnos con un subgrafo del original, en donde elminamos los nodos con genero no definido."
   ]
  },
  {
   "cell_type": "code",
   "execution_count": 22,
   "metadata": {},
   "outputs": [],
   "source": [
    "delfines_con_info = [d for d in dolph.nodes() if d not in particiones[1]]\n",
    "dolph2 = nx.subgraph(dolph, delfines_con_info).copy()"
   ]
  },
  {
   "cell_type": "markdown",
   "metadata": {},
   "source": [
    "Simulamos 1000 redes diferentes"
   ]
  },
  {
   "cell_type": "code",
   "execution_count": 23,
   "metadata": {},
   "outputs": [],
   "source": [
    "n_simulaciones = int(1000)\n",
    "enlaces_entre_grupos = np.zeros((n_simulaciones))\n",
    "modularidades = np.zeros((n_simulaciones))\n",
    "grafo_h0 = dolph2.copy()\n",
    "# Vamos a ir modificando este grafo \"in place\" (no lo clonamos n veces)\n",
    "\n",
    "for i in range(n_simulaciones):\n",
    "    # Mezclamos la lista de nombres de delfines.\n",
    "    # A los primeros 24 delfines les reasignamos género hembra\n",
    "    # El resto van a ser macho.\n",
    "    hembras = sample(list(grafo_h0.nodes()), 24)\n",
    "    for nombre in grafo_h0.nodes():\n",
    "        if nombre in hembras:\n",
    "            grafo_h0.nodes()[nombre]['gender'] = 'f'\n",
    "        else:\n",
    "            grafo_h0.nodes()[nombre]['gender'] = 'm'\n",
    "    enlaces_entre_grupos[i] = contar_enlaces_entre_grupos(grafo_h0, 'gender')\n",
    "    modularidades[i] = modularidad(grafo_h0, 'gender')"
   ]
  },
  {
   "cell_type": "code",
   "execution_count": 36,
   "metadata": {},
   "outputs": [
    {
     "data": {
      "image/png": "[encoded data removed]",
      "text/plain": [
       "<matplotlib.figure.Figure at 0x7f590b2b7470>"
      ]
     },
     "metadata": {},
     "output_type": "display_data"
    }
   ],
   "source": [
    "# Visualizar distribución de enlaces entre grupos bajo hipótesis nula\n",
    "fig, ax = histograma(enlaces_entre_grupos, bins=150, density=True,\n",
    "                     titulo=r'Distribución de enlaces entre delfines de géneros distintos bajo $H_0$',\n",
    "                     xlabel='# de enlaces')\n",
    "#Tambien graficamos el valor real(Mati: No se grafica!, chequear que onda.)\n",
    "valor_real = contar_enlaces_entre_grupos(dolph2, 'gender')\n",
    "ax.axvline(valor_real, color='deeppink',\n",
    "           label='Valor real = {}'.format(valor_real))\n",
    "ax.legend()"
   ]
  },
  {
   "cell_type": "markdown",
   "metadata": {},
   "source": [
    "Calculamos el P-value. Para ello, integramos el histograma a partir del valor de enlace medido hacia menos infinito. Como la distribución es acampanada, multiplicamos este valor por dos para tener en cuento los eventos del otro lado del histograma que tambien poseen menor probabilidad al valor de enlace medido."
   ]
  },
  {
   "cell_type": "code",
   "execution_count": 14,
   "metadata": {},
   "outputs": [
    {
     "data": {
      "text/plain": [
       "0.004"
      ]
     },
     "execution_count": 14,
     "metadata": {},
     "output_type": "execute_result"
    }
   ],
   "source": [
    "p_value(enlaces_entre_grupos)"
   ]
  },
  {
   "cell_type": "markdown",
   "metadata": {},
   "source": [
    "Finalmente, podemos visualizar la distribución de modularidades para todas las simulaciones."
   ]
  },
  {
   "cell_type": "code",
   "execution_count": 40,
   "metadata": {},
   "outputs": [
    {
     "data": {
      "image/png": "[encoded data removed]",
      "text/plain": [
       "<matplotlib.figure.Figure at 0x7f590aee8438>"
      ]
     },
     "metadata": {},
     "output_type": "display_data"
    },
    {
     "data": {
      "text/plain": [
       "<matplotlib.lines.Line2D at 0x7f590ae8fb00>"
      ]
     },
     "execution_count": 40,
     "metadata": {},
     "output_type": "execute_result"
    }
   ],
   "source": [
    "modularidad_real = modularidad(dolph2, 'gender')\n",
    "fig, ax = histograma(modularidades, bins=15, density=True,\n",
    "                     titulo=r'Distribución de modularidad bajo $H_0$',\n",
    "                     xlabel='Modularidad')\n",
    "ax.axvline(modularidad_real, color='deeppink',\n",
    "           label='Valor real = {}'.format(valor_real))"
   ]
  },
  {
   "cell_type": "markdown",
   "metadata": {},
   "source": [
    "## Problema 3"
   ]
  },
  {
   "cell_type": "markdown",
   "metadata": {},
   "source": [
    "### Punto a"
   ]
  },
  {
   "cell_type": "markdown",
   "metadata": {},
   "source": [
    "Importamos las librerias"
   ]
  },
  {
   "cell_type": "code",
   "execution_count": 44,
   "metadata": {},
   "outputs": [],
   "source": [
    "import networkx as nx\n",
    "import matplotlib.pyplot as plt\n",
    "import numpy as np\n",
    "from networkx.readwrite.gml import read_gml\n",
    "from histograma import histograma\n",
    "from __future__ import division"
   ]
  },
  {
   "cell_type": "markdown",
   "metadata": {},
   "source": [
    "Importamos los datos"
   ]
  },
  {
   "cell_type": "code",
   "execution_count": 45,
   "metadata": {},
   "outputs": [],
   "source": [
    "internet = read_gml('Tp1/tc01_data/as-22july06.gml')\n",
    "nodes = []\n",
    "degrees = []\n",
    "for a, b in internet.degree():\n",
    "    nodes.append(a)\n",
    "    degrees.append(b)"
   ]
  },
  {
   "cell_type": "markdown",
   "metadata": {},
   "source": [
    "Vamos a implementar distintas visulizaciones. Como los bineados logaritmicos tienen problemas para los nodos con grado cero, vamos a eliminar estos nodos para todos los bineados."
   ]
  },
  {
   "cell_type": "code",
   "execution_count": 50,
   "metadata": {},
   "outputs": [
    {
     "data": {
      "image/png": "[encoded data removed]",
      "text/plain": [
       "<matplotlib.figure.Figure at 0x7f590a6c26d8>"
      ]
     },
     "metadata": {},
     "output_type": "display_data"
    }
   ],
   "source": [
    "fig, axes = plt.subplots(4, 2, figsize=(10,10))\n",
    "axes = axes.flatten()\n",
    "logbinss = [0, 0, 0, 0, 1, 1, 1, 1]\n",
    "logxs    = [0, 0, 1, 1, 0, 0, 1, 1]\n",
    "logys    = [0, 1, 0, 1, 0, 1, 0, 1]\n",
    "\n",
    "t = ['Bines lineales', 'Bines logarítmicos']\n",
    "titulos  = [t[i] for i in logbinss]\n",
    "xlabels = [('Grado (adim.)' if i in [6,7] else None) for i in range(8)]\n",
    "ylabels = [(True if i % 2 == 0 else False) for i in range(8)]\n",
    "\n",
    "for i in range(8):\n",
    "    histograma(degrees,\n",
    "               logbins=logbinss[i], logx=logxs[i], logy=logys[i], ax=axes[i],\n",
    "               titulo=titulos[i], xlabel=xlabels[i], ylabel=ylabels[i],\n",
    "               ecolor='k', errbars=False, \n",
    "               labelsize=10, ticksize=10,\n",
    "               bins=(1, max(degrees) + 2, 100))"
   ]
  },
  {
   "cell_type": "code",
   "execution_count": null,
   "metadata": {},
   "outputs": [],
   "source": [
    "Se observa el grafico con bines y ambos ejes logaritmicos es el que mejor muestra la ley de potencias."
   ]
  },
  {
   "cell_type": "markdown",
   "metadata": {},
   "source": [
    "# Punto 4"
   ]
  }
 ],
 "metadata": {
  "kernelspec": {
   "display_name": "Python 3",
   "language": "python",
   "name": "python3"
  },
  "language_info": {
   "codemirror_mode": {
    "name": "ipython",
    "version": 3
   },
   "file_extension": ".py",
   "mimetype": "text/x-python",
   "name": "python",
   "nbconvert_exporter": "python",
   "pygments_lexer": "ipython3",
   "version": "3.6.4"
  }
 },
 "nbformat": 4,
 "nbformat_minor": 2
}
