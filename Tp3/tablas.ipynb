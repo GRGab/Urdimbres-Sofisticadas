{
 "cells": [
  {
   "cell_type": "code",
   "execution_count": 3,
   "metadata": {},
   "outputs": [
    {
     "data": {
      "text/html": [
       "<div>\n",
       "<style scoped>\n",
       "    .dataframe tbody tr th:only-of-type {\n",
       "        vertical-align: middle;\n",
       "    }\n",
       "\n",
       "    .dataframe tbody tr th {\n",
       "        vertical-align: top;\n",
       "    }\n",
       "\n",
       "    .dataframe thead th {\n",
       "        text-align: right;\n",
       "    }\n",
       "</style>\n",
       "<table border=\"1\" class=\"dataframe\">\n",
       "  <thead>\n",
       "    <tr style=\"text-align: right;\">\n",
       "      <th></th>\n",
       "      <th>Genero</th>\n",
       "    </tr>\n",
       "  </thead>\n",
       "  <tbody>\n",
       "    <tr>\n",
       "      <th>Fastgreedy</th>\n",
       "      <td>0.160896</td>\n",
       "    </tr>\n",
       "    <tr>\n",
       "      <th>Eigenvector</th>\n",
       "      <td>0.164051</td>\n",
       "    </tr>\n",
       "    <tr>\n",
       "      <th>Edge betweenness</th>\n",
       "      <td>0.207911</td>\n",
       "    </tr>\n",
       "    <tr>\n",
       "      <th>Louvain</th>\n",
       "      <td>0.205337</td>\n",
       "    </tr>\n",
       "    <tr>\n",
       "      <th>Walktrap</th>\n",
       "      <td>0.134061</td>\n",
       "    </tr>\n",
       "    <tr>\n",
       "      <th>Infomap</th>\n",
       "      <td>0.246455</td>\n",
       "    </tr>\n",
       "    <tr>\n",
       "      <th>Label prop</th>\n",
       "      <td>0.187634</td>\n",
       "    </tr>\n",
       "  </tbody>\n",
       "</table>\n",
       "</div>"
      ],
      "text/plain": [
       "                    Genero\n",
       "Fastgreedy        0.160896\n",
       "Eigenvector       0.164051\n",
       "Edge betweenness  0.207911\n",
       "Louvain           0.205337\n",
       "Walktrap          0.134061\n",
       "Infomap           0.246455\n",
       "Label prop        0.187634"
      ]
     },
     "execution_count": 3,
     "metadata": {},
     "output_type": "execute_result"
    }
   ],
   "source": [
    "import numpy as np\n",
    "import pandas as pd\n",
    "metodos = [\"Fastgreedy\", \"Eigenvector\",\"Edge betweenness\", \"Louvain\", \"Walktrap\", \"Infomap\", \"Label prop\"]\n",
    "\n",
    "tabla = np.load('/home/tomas/Desktop/Redes complejas/Urdimbres-Sofisticadas/Tp3/tabla_info_mutua_generos.npy')\n",
    "cuadro = pd.DataFrame(tabla, columns = ['Genero'], index = metodos)\n",
    "cuadro"
   ]
  }
 ],
 "metadata": {
  "kernelspec": {
   "display_name": "Python 3",
   "language": "python",
   "name": "python3"
  },
  "language_info": {
   "codemirror_mode": {
    "name": "ipython",
    "version": 3
   },
   "file_extension": ".py",
   "mimetype": "text/x-python",
   "name": "python",
   "nbconvert_exporter": "python",
   "pygments_lexer": "ipython3",
   "version": "3.6.6"
  }
 },
 "nbformat": 4,
 "nbformat_minor": 2
}
