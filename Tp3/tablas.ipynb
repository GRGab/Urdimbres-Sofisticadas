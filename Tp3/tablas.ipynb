{
 "cells": [
  {
   "cell_type": "code",
   "execution_count": 4,
   "metadata": {},
   "outputs": [
    {
     "ename": "FileNotFoundError",
     "evalue": "[Errno 2] No such file or directory: '/home/tomas/Desktop/Redes complejas/Urdimbres-Sofisticadas/Tp3/tabla_info_mutua_generos.npy'",
     "output_type": "error",
     "traceback": [
      "\u001b[0;31m---------------------------------------------------------------------------\u001b[0m",
      "\u001b[0;31mFileNotFoundError\u001b[0m                         Traceback (most recent call last)",
      "\u001b[0;32m<ipython-input-4-2b6a808b0788>\u001b[0m in \u001b[0;36m<module>\u001b[0;34m()\u001b[0m\n\u001b[1;32m      3\u001b[0m \u001b[0mmetodos\u001b[0m \u001b[0;34m=\u001b[0m \u001b[0;34m[\u001b[0m\u001b[0;34m\"Fastgreedy\"\u001b[0m\u001b[0;34m,\u001b[0m \u001b[0;34m\"Eigenvector\"\u001b[0m\u001b[0;34m,\u001b[0m\u001b[0;34m\"Edge betweenness\"\u001b[0m\u001b[0;34m,\u001b[0m \u001b[0;34m\"Louvain\"\u001b[0m\u001b[0;34m,\u001b[0m \u001b[0;34m\"Walktrap\"\u001b[0m\u001b[0;34m,\u001b[0m \u001b[0;34m\"Infomap\"\u001b[0m\u001b[0;34m,\u001b[0m \u001b[0;34m\"Label prop\"\u001b[0m\u001b[0;34m]\u001b[0m\u001b[0;34m\u001b[0m\u001b[0m\n\u001b[1;32m      4\u001b[0m \u001b[0;34m\u001b[0m\u001b[0m\n\u001b[0;32m----> 5\u001b[0;31m \u001b[0mtabla\u001b[0m \u001b[0;34m=\u001b[0m \u001b[0mnp\u001b[0m\u001b[0;34m.\u001b[0m\u001b[0mload\u001b[0m\u001b[0;34m(\u001b[0m\u001b[0;34m'/home/tomas/Desktop/Redes complejas/Urdimbres-Sofisticadas/Tp3/tabla_info_mutua_generos.npy'\u001b[0m\u001b[0;34m)\u001b[0m\u001b[0;34m\u001b[0m\u001b[0m\n\u001b[0m\u001b[1;32m      6\u001b[0m \u001b[0mcuadro\u001b[0m \u001b[0;34m=\u001b[0m \u001b[0mpd\u001b[0m\u001b[0;34m.\u001b[0m\u001b[0mDataFrame\u001b[0m\u001b[0;34m(\u001b[0m\u001b[0mtabla\u001b[0m\u001b[0;34m,\u001b[0m \u001b[0mcolumns\u001b[0m \u001b[0;34m=\u001b[0m \u001b[0;34m[\u001b[0m\u001b[0;34m'Genero'\u001b[0m\u001b[0;34m]\u001b[0m\u001b[0;34m,\u001b[0m \u001b[0mindex\u001b[0m \u001b[0;34m=\u001b[0m \u001b[0mmetodos\u001b[0m\u001b[0;34m)\u001b[0m\u001b[0;34m\u001b[0m\u001b[0m\n\u001b[1;32m      7\u001b[0m \u001b[0mcuadro\u001b[0m\u001b[0;34m\u001b[0m\u001b[0m\n",
      "\u001b[0;32m~/anaconda3/lib/python3.6/site-packages/numpy/lib/npyio.py\u001b[0m in \u001b[0;36mload\u001b[0;34m(file, mmap_mode, allow_pickle, fix_imports, encoding)\u001b[0m\n\u001b[1;32m    370\u001b[0m     \u001b[0mown_fid\u001b[0m \u001b[0;34m=\u001b[0m \u001b[0;32mFalse\u001b[0m\u001b[0;34m\u001b[0m\u001b[0m\n\u001b[1;32m    371\u001b[0m     \u001b[0;32mif\u001b[0m \u001b[0misinstance\u001b[0m\u001b[0;34m(\u001b[0m\u001b[0mfile\u001b[0m\u001b[0;34m,\u001b[0m \u001b[0mbasestring\u001b[0m\u001b[0;34m)\u001b[0m\u001b[0;34m:\u001b[0m\u001b[0;34m\u001b[0m\u001b[0m\n\u001b[0;32m--> 372\u001b[0;31m         \u001b[0mfid\u001b[0m \u001b[0;34m=\u001b[0m \u001b[0mopen\u001b[0m\u001b[0;34m(\u001b[0m\u001b[0mfile\u001b[0m\u001b[0;34m,\u001b[0m \u001b[0;34m\"rb\"\u001b[0m\u001b[0;34m)\u001b[0m\u001b[0;34m\u001b[0m\u001b[0m\n\u001b[0m\u001b[1;32m    373\u001b[0m         \u001b[0mown_fid\u001b[0m \u001b[0;34m=\u001b[0m \u001b[0;32mTrue\u001b[0m\u001b[0;34m\u001b[0m\u001b[0m\n\u001b[1;32m    374\u001b[0m     \u001b[0;32melif\u001b[0m \u001b[0mis_pathlib_path\u001b[0m\u001b[0;34m(\u001b[0m\u001b[0mfile\u001b[0m\u001b[0;34m)\u001b[0m\u001b[0;34m:\u001b[0m\u001b[0;34m\u001b[0m\u001b[0m\n",
      "\u001b[0;31mFileNotFoundError\u001b[0m: [Errno 2] No such file or directory: '/home/tomas/Desktop/Redes complejas/Urdimbres-Sofisticadas/Tp3/tabla_info_mutua_generos.npy'"
     ]
    }
   ],
   "source": [
    "import numpy as np\n",
    "import pandas as pd\n",
    "metodos = [\"Fastgreedy\", \"Eigenvector\",\"Edge betweenness\", \"Louvain\", \"Walktrap\", \"Infomap\", \"Label prop\"]\n",
    "\n",
    "tabla = np.load('/home/tomas/Desktop/Redes complejas/Urdimbres-Sofisticadas/Tp3/tabla_info_mutua_generos.npy')\n",
    "cuadro = pd.DataFrame(tabla, columns = ['Genero'], index = metodos)\n",
    "cuadro"
   ]
  },
  {
   "cell_type": "code",
   "execution_count": 1,
   "metadata": {},
   "outputs": [
    {
     "data": {
      "text/html": [
       "<div>\n",
       "<style scoped>\n",
       "    .dataframe tbody tr th:only-of-type {\n",
       "        vertical-align: middle;\n",
       "    }\n",
       "\n",
       "    .dataframe tbody tr th {\n",
       "        vertical-align: top;\n",
       "    }\n",
       "\n",
       "    .dataframe thead th {\n",
       "        text-align: right;\n",
       "    }\n",
       "</style>\n",
       "<table border=\"1\" class=\"dataframe\">\n",
       "  <thead>\n",
       "    <tr style=\"text-align: right;\">\n",
       "      <th></th>\n",
       "      <th>Genero</th>\n",
       "    </tr>\n",
       "  </thead>\n",
       "  <tbody>\n",
       "    <tr>\n",
       "      <th>infomap</th>\n",
       "      <td>0.612374</td>\n",
       "    </tr>\n",
       "    <tr>\n",
       "      <th>label_prop</th>\n",
       "      <td>0.593337</td>\n",
       "    </tr>\n",
       "    <tr>\n",
       "      <th>fastgreedy</th>\n",
       "      <td>0.589106</td>\n",
       "    </tr>\n",
       "    <tr>\n",
       "      <th>eigenvector</th>\n",
       "      <td>0.565838</td>\n",
       "    </tr>\n",
       "    <tr>\n",
       "      <th>louvain</th>\n",
       "      <td>0.593337</td>\n",
       "    </tr>\n",
       "    <tr>\n",
       "      <th>edge_betweenness</th>\n",
       "      <td>0.610259</td>\n",
       "    </tr>\n",
       "    <tr>\n",
       "      <th>walktrap</th>\n",
       "      <td>0.579588</td>\n",
       "    </tr>\n",
       "  </tbody>\n",
       "</table>\n",
       "</div>"
      ],
      "text/plain": [
       "                    Genero\n",
       "infomap           0.612374\n",
       "label_prop        0.593337\n",
       "fastgreedy        0.589106\n",
       "eigenvector       0.565838\n",
       "louvain           0.593337\n",
       "edge_betweenness  0.610259\n",
       "walktrap          0.579588"
      ]
     },
     "execution_count": 1,
     "metadata": {},
     "output_type": "execute_result"
    }
   ],
   "source": [
    "import numpy as np\n",
    "import pandas as pd\n",
    "lista_de_metodos = [\"infomap\",\"label_prop\", \"fastgreedy\", \"eigenvector\",\n",
    "                    \"louvain\", \"edge_betweenness\", \"walktrap\"] \n",
    "\n",
    "tabla = np.load('/home/matias/Documentos/Facultad/Redes/Urdimbres-Sofisticadas/Tp3/tabla_presicion_generos.npy')\n",
    "cuadro = pd.DataFrame(tabla, columns = ['Genero'], index = lista_de_metodos)\n",
    "cuadro"
   ]
  }
 ],
 "metadata": {
  "kernelspec": {
   "display_name": "Python 3",
   "language": "python",
   "name": "python3"
  },
  "language_info": {
   "codemirror_mode": {
    "name": "ipython",
    "version": 3
   },
   "file_extension": ".py",
   "mimetype": "text/x-python",
   "name": "python",
   "nbconvert_exporter": "python",
   "pygments_lexer": "ipython3",
   "version": "3.6.4"
  }
 },
 "nbformat": 4,
 "nbformat_minor": 2
}
